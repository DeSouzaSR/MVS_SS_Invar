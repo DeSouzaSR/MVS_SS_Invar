{
 "cells": [
  {
   "cell_type": "markdown",
   "metadata": {},
   "source": [
    "# Extract planets\n",
    "\n",
    "This notebook extract data planets from Swift's binary output. Each simulation  "
   ]
  },
  {
   "cell_type": "code",
   "execution_count": 1,
   "metadata": {},
   "outputs": [],
   "source": [
    "# Import modules\n",
    "import os\n",
    "import subprocess\n",
    "import shutil\n",
    "from glob import glob\n",
    "import yaml"
   ]
  },
  {
   "cell_type": "code",
   "execution_count": 2,
   "metadata": {},
   "outputs": [],
   "source": [
    "# Read parameters\n",
    "with open(\"../src/parameter.yaml\") as stream:\n",
    "    data = yaml.load(stream)"
   ]
  },
  {
   "cell_type": "code",
   "execution_count": 3,
   "metadata": {},
   "outputs": [],
   "source": [
    "# Configurations\n",
    "\n",
    "# Project path\n",
    "project_path = data['project_path']\n",
    "\n",
    "# Prefix simulation\n",
    "prefix_simulation = data['prefix_simulation']\n",
    "\n",
    "# Data path\n",
    "data_path = data['data_path']\n",
    "\n",
    "# Follow program path\n",
    "follow_path = '/Users/sandro/Programas/swift/tools/'\n",
    "\n",
    "# Number of clones\n",
    "n_clones = data['n_clones']\n",
    "\n",
    "# Code planets used by follow_swift program\n",
    "planets = {\"Mercury\":-2, \"Venus\":-3, \"Earth\":-4, \"Mars\":-5, \"Jupiter\":-6, \"Saturn\":-7,\\\n",
    "           \"Uranus\":-8, \"Neptune\":-9, \"Vulcan\":-10}"
   ]
  },
  {
   "cell_type": "code",
   "execution_count": 7,
   "metadata": {
    "scrolled": true
   },
   "outputs": [
    {
     "name": "stdout",
     "output_type": "stream",
     "text": [
      "Concluído clone  1\n",
      "Concluído clone  2\n",
      "Concluído clone  3\n",
      "Concluído clone  4\n",
      "Concluído clone  5\n",
      "Concluído clone  6\n",
      "Concluído clone  7\n",
      "Concluído clone  8\n",
      "Concluído clone  9\n",
      "Concluído clone  10\n",
      "Concluído clone  11\n",
      "Concluído clone  12\n",
      "Concluído clone  13\n",
      "Concluído clone  14\n",
      "Concluído clone  15\n",
      "Concluído clone  16\n",
      "Concluído clone  17\n",
      "Concluído clone  18\n",
      "Concluído clone  19\n",
      "Concluído clone  20\n",
      "Concluído clone  21\n",
      "Concluído clone  22\n",
      "Concluído clone  23\n",
      "Concluído clone  24\n",
      "Concluído clone  25\n",
      "Concluído clone  26\n",
      "Concluído clone  27\n",
      "Concluído clone  28\n",
      "Concluído clone  29\n",
      "Concluído clone  30\n",
      "Concluído clone  31\n",
      "Concluído clone  32\n",
      "Concluído clone  33\n",
      "Concluído clone  34\n",
      "Concluído clone  35\n",
      "Concluído clone  36\n",
      "Concluído clone  37\n",
      "Concluído clone  38\n",
      "Concluído clone  39\n",
      "Concluído clone  40\n",
      "Concluído clone  41\n",
      "Concluído clone  42\n",
      "Concluído clone  43\n",
      "Concluído clone  44\n",
      "Concluído clone  45\n",
      "Concluído clone  46\n",
      "Concluído clone  47\n",
      "Concluído clone  48\n",
      "Concluído clone  49\n",
      "Concluído clone  50\n",
      "Concluído clone  51\n",
      "Concluído clone  52\n",
      "Concluído clone  53\n",
      "Concluído clone  54\n",
      "Concluído clone  55\n",
      "Concluído clone  56\n",
      "Concluído clone  57\n",
      "Concluído clone  58\n",
      "Concluído clone  59\n",
      "Concluído clone  60\n",
      "Concluído clone  61\n",
      "Concluído clone  62\n",
      "Concluído clone  63\n",
      "Concluído clone  64\n",
      "Concluído clone  65\n",
      "Concluído clone  66\n",
      "Concluído clone  67\n",
      "Concluído clone  68\n",
      "Concluído clone  69\n",
      "Concluído clone  70\n",
      "Concluído clone  71\n",
      "Concluído clone  72\n",
      "Concluído clone  73\n",
      "Concluído clone  74\n",
      "Concluído clone  75\n",
      "Concluído clone  76\n",
      "Concluído clone  77\n",
      "Concluído clone  78\n",
      "Concluído clone  79\n",
      "Concluído clone  80\n",
      "Concluído clone  81\n",
      "Concluído clone  82\n",
      "Concluído clone  83\n",
      "Concluído clone  84\n",
      "Concluído clone  85\n",
      "Concluído clone  86\n",
      "Concluído clone  87\n",
      "Concluído clone  88\n",
      "Concluído clone  89\n",
      "Concluído clone  90\n",
      "Concluído clone  91\n",
      "Concluído clone  92\n",
      "Concluído clone  93\n",
      "Concluído clone  94\n",
      "Concluído clone  95\n",
      "Concluído clone  96\n"
     ]
    }
   ],
   "source": [
    "os.chdir(project_path)\n",
    "os.chdir(data_path)\n",
    "for clone in range(1, n_clones + 1):\n",
    "    os.chdir(prefix_simulation + str(clone))\n",
    "    shutil.copy(follow_path + \"follow_swift.x\", \".\")\n",
    "    for planet in planets:\n",
    "        with open(\"input_follow.txt\", \"w\") as f:\n",
    "            f.write(str(planets[planet]) + \"\\n1\")\n",
    "        subprocess.run(\"./follow_swift.x < input_follow.txt\", shell = True)\n",
    "        os.rename(\"follow.out\", planet + \".txt\")\n",
    "        os.remove(\"input_follow.txt\")\n",
    "    os.remove(\"follow_swift.x\")\n",
    "    os.chdir(\"..\")\n",
    "    print('Finish clone ', clone)\n",
    "os.chdir('data_path')\n",
    "os.chdir(project_path)"
   ]
  },
  {
   "cell_type": "markdown",
   "metadata": {},
   "source": [
    "Veryfing one clone"
   ]
  },
  {
   "cell_type": "code",
   "execution_count": 4,
   "metadata": {},
   "outputs": [
    {
     "data": {
      "text/plain": [
       "['dump_param.dat',\n",
       " 'dump_pl.dat',\n",
       " 'dump_tp.dat',\n",
       " 'Earth.txt',\n",
       " 'energy.out',\n",
       " 'Jupiter.txt',\n",
       " 'Mars.txt',\n",
       " 'Mercury.txt',\n",
       " 'mvs.in',\n",
       " 'Neptune.txt',\n",
       " 'output.bin',\n",
       " 'param.in',\n",
       " 'pl.in',\n",
       " 'Saturn.txt',\n",
       " 'screen.out',\n",
       " 'tp.in',\n",
       " 'Uranus.txt',\n",
       " 'Venus.txt',\n",
       " 'Vulcan.txt']"
      ]
     },
     "execution_count": 4,
     "metadata": {},
     "output_type": "execute_result"
    }
   ],
   "source": [
    "os.chdir(data_path)\n",
    "os.listdir(prefix_simulation + '1')"
   ]
  },
  {
   "cell_type": "code",
   "execution_count": null,
   "metadata": {},
   "outputs": [],
   "source": []
  }
 ],
 "metadata": {
  "kernelspec": {
   "display_name": "Python 3",
   "language": "python",
   "name": "python3"
  },
  "language_info": {
   "codemirror_mode": {
    "name": "ipython",
    "version": 3
   },
   "file_extension": ".py",
   "mimetype": "text/x-python",
   "name": "python",
   "nbconvert_exporter": "python",
   "pygments_lexer": "ipython3",
   "version": "3.6.4"
  }
 },
 "nbformat": 4,
 "nbformat_minor": 2
}
